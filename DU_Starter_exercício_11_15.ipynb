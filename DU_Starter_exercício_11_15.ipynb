{
  "nbformat": 4,
  "nbformat_minor": 0,
  "metadata": {
    "colab": {
      "provenance": [],
      "authorship_tag": "ABX9TyOS1iKLxsGa8iHg5KwYnudb",
      "include_colab_link": true
    },
    "kernelspec": {
      "name": "python3",
      "display_name": "Python 3"
    },
    "language_info": {
      "name": "python"
    }
  },
  "cells": [
    {
      "cell_type": "markdown",
      "metadata": {
        "id": "view-in-github",
        "colab_type": "text"
      },
      "source": [
        "<a href=\"https://colab.research.google.com/github/Luandersonsouza/DU-starter/blob/main/DU_Starter_exerc%C3%ADcio_11_15.ipynb\" target=\"_parent\"><img src=\"https://colab.research.google.com/assets/colab-badge.svg\" alt=\"Open In Colab\"/></a>"
      ]
    },
    {
      "cell_type": "code",
      "execution_count": 1,
      "metadata": {
        "id": "-M-alkmoMilQ"
      },
      "outputs": [],
      "source": [
        "import pandas as pd"
      ]
    },
    {
      "cell_type": "code",
      "source": [
        "URL = 'https://github.com/TrainingByPackt/Data-Science-Projects-with-Python/raw/master/Data/Chapter_1_cleaned_data.csv'\n",
        "df = pd.read_csv(URL)\n",
        "df.head()"
      ],
      "metadata": {
        "id": "-V-MbeyXN2Nz"
      },
      "execution_count": null,
      "outputs": []
    },
    {
      "cell_type": "markdown",
      "source": [
        "# Feature Selection\n",
        "\n",
        "\n"
      ],
      "metadata": {
        "id": "gc8b4nI9HqzM"
      }
    },
    {
      "cell_type": "code",
      "source": [
        "df.columns"
      ],
      "metadata": {
        "id": "JDtHAv1hHxW4"
      },
      "execution_count": null,
      "outputs": []
    },
    {
      "cell_type": "markdown",
      "source": [
        "## Manual"
      ],
      "metadata": {
        "id": "2TwGajKlI5p1"
      }
    },
    {
      "cell_type": "code",
      "source": [
        "items_to_remove = ['ID', 'SEX', 'PAY_2', 'PAY_3', 'PAY_4', 'PAY_5', 'PAY_6',\n",
        "                   'EDUCATION_CAT', 'graduate school', 'high school', 'none',\n",
        "                   'others', 'university']\n",
        "\n",
        "features_response = [col for col in df.columns if col not in items_to_remove]\n",
        "features_response"
      ],
      "metadata": {
        "id": "_qaRf8X1HtUY"
      },
      "execution_count": null,
      "outputs": []
    },
    {
      "cell_type": "markdown",
      "source": [
        "### Correlação de Pearson"
      ],
      "metadata": {
        "id": "y9_VIV_STPM1"
      }
    },
    {
      "cell_type": "code",
      "source": [
        "import seaborn as sns\n",
        "\n",
        "corr = df.corr(numeric_only=True)\n",
        "\n",
        "sns.heatmap(corr, xticklabels=corr.columns.values, yticklabels=corr.columns.values);"
      ],
      "metadata": {
        "id": "JprL2q0heAsG"
      },
      "execution_count": null,
      "outputs": []
    },
    {
      "cell_type": "code",
      "source": [
        "corr['default payment next month'].abs().sort_values(ascending = False)"
      ],
      "metadata": {
        "id": "0UgLCIq-1nYG"
      },
      "execution_count": null,
      "outputs": []
    },
    {
      "cell_type": "markdown",
      "source": [
        "Correlação linear é legal, mas não foi projetada para comparar features (colunas) contínuas com categóricas que é o que buscamos. Sendo necessário explorar novas técnicas."
      ],
      "metadata": {
        "id": "xwiGF4Vz3rgq"
      }
    },
    {
      "cell_type": "markdown",
      "source": [
        "### Teste F"
      ],
      "metadata": {
        "id": "V76hvcgo3mFk"
      }
    },
    {
      "cell_type": "markdown",
      "source": [
        "Exercício 11\n"
      ],
      "metadata": {
        "id": "ONfb-_ls4qdq"
      }
    },
    {
      "cell_type": "code",
      "source": [
        "target_name = 'default payment next month'\n",
        "X = df[features_response].drop(columns=[target_name]).values\n",
        "y = df[target_name].values"
      ],
      "metadata": {
        "id": "4KZqgqT-3mQi"
      },
      "execution_count": 7,
      "outputs": []
    },
    {
      "cell_type": "code",
      "source": [
        "from sklearn.feature_selection import f_classif\n",
        "#f_classif?\n",
        "f_stat, f_p_values =  f_classif(X,y)"
      ],
      "metadata": {
        "id": "K9Ag_FGl5WES"
      },
      "execution_count": 8,
      "outputs": []
    },
    {
      "cell_type": "code",
      "source": [
        "pd.DataFrame({'Feature': features_response[:-1],\n",
        "              'F statistic': f_stat,\n",
        "              'p value': f_p_values}).sort_values(by= 'p value')"
      ],
      "metadata": {
        "id": "4uRQtjYlKqte"
      },
      "execution_count": null,
      "outputs": []
    },
    {
      "cell_type": "code",
      "source": [
        "from sklearn.feature_selection import SelectPercentile\n",
        "\n",
        "selector = SelectPercentile(f_classif, percentile =20)\n",
        "selector.fit(X,y)"
      ],
      "metadata": {
        "id": "CGBHrDHuMidU"
      },
      "execution_count": null,
      "outputs": []
    },
    {
      "cell_type": "code",
      "source": [
        "best_feature_ix = selector.get_support()\n",
        "best_feature_ix"
      ],
      "metadata": {
        "id": "wNzSJocJM61G"
      },
      "execution_count": null,
      "outputs": []
    },
    {
      "cell_type": "code",
      "source": [
        "import numpy as np\n",
        "\n",
        "features = np.array(features_response[:-1])"
      ],
      "metadata": {
        "id": "n6eqVUPKNF8K"
      },
      "execution_count": 12,
      "outputs": []
    },
    {
      "cell_type": "code",
      "source": [
        "best_features = list(features[best_feature_ix])\n",
        "best_features"
      ],
      "metadata": {
        "id": "tjVFSrK9Rx3h"
      },
      "execution_count": null,
      "outputs": []
    },
    {
      "cell_type": "markdown",
      "source": [
        "## Exercício 12"
      ],
      "metadata": {
        "id": "lyTX735YF4Ko"
      }
    },
    {
      "cell_type": "code",
      "source": [
        "overall_default_rate = df[target_name].mean()\n",
        "overall_default_rate"
      ],
      "metadata": {
        "id": "Mqh4v5nfIJZt"
      },
      "execution_count": null,
      "outputs": []
    },
    {
      "cell_type": "code",
      "source": [
        "group_by_pay_mean_y = df.groupby('PAY_1')[target_name].mean()\n",
        "group_by_pay_mean_y"
      ],
      "metadata": {
        "id": "5Ou5hv8QIZOE"
      },
      "execution_count": null,
      "outputs": []
    },
    {
      "cell_type": "code",
      "source": [
        "import matplotlib.pyplot as plt"
      ],
      "metadata": {
        "id": "_9uisVUCJpAh"
      },
      "execution_count": 16,
      "outputs": []
    },
    {
      "cell_type": "code",
      "source": [
        "axes = plt.axes()\n",
        "axes.axhline(overall_default_rate, color = 'red')\n",
        "group_by_pay_mean_y.plot(marker='x', legend = False, ax = axes);"
      ],
      "metadata": {
        "id": "useb6Sg1JyCO"
      },
      "execution_count": null,
      "outputs": []
    },
    {
      "cell_type": "code",
      "source": [
        "pos_mask = y == 1\n",
        "neg_mask = y == 0"
      ],
      "metadata": {
        "id": "UTgHltUZKy8U"
      },
      "execution_count": 18,
      "outputs": []
    },
    {
      "cell_type": "code",
      "source": [
        "axes =plt.axes()\n",
        "axes.hist(df.loc[neg_mask, 'LIMIT_BAL'])\n",
        "axes.hist(df.loc[pos_mask, 'LIMIT_BAL']);"
      ],
      "metadata": {
        "id": "VhNBqcpBK4xm"
      },
      "execution_count": null,
      "outputs": []
    },
    {
      "cell_type": "code",
      "source": [
        "bin_edges = list(range(0, 850000, 50000))\n",
        "print(bin_edges[-1])"
      ],
      "metadata": {
        "id": "Iz7Ygr5RMCQr"
      },
      "execution_count": null,
      "outputs": []
    },
    {
      "cell_type": "code",
      "source": [
        "axes =plt.axes()\n",
        "axes.hist(df.loc[neg_mask, 'LIMIT_BAL'], density = True, bins = bin_edges, alpha = 0.5)\n",
        "axes.hist(df.loc[pos_mask, 'LIMIT_BAL'], density = True, bins = bin_edges, alpha = 0.5);"
      ],
      "metadata": {
        "id": "ri2B23JuMnHl"
      },
      "execution_count": null,
      "outputs": []
    },
    {
      "cell_type": "markdown",
      "source": [
        "## Sigmóide"
      ],
      "metadata": {
        "id": "Joeyt875OaLH"
      }
    },
    {
      "cell_type": "markdown",
      "source": [
        "Será utilizado para converter um número real que ficará entre 0 e 1.\n",
        "R -> (0,1).\n"
      ],
      "metadata": {
        "id": "3xAU2kVbTSSF"
      }
    },
    {
      "cell_type": "markdown",
      "source": [
        " O que o modelo de classificação irá fazer?\n",
        "\n",
        " Necessário um conjunto de features -> **X[0]**\n",
        " Daí ele retorna uma classe de duas ou mais possíveis classes.\n",
        "\n",
        " X[0] --> [0] , [1]\n",
        "\n",
        "Não buscamos saber apenas a classe final, é interessante saber a confiança (probabilidade) de ser a classe que ele está indicando.\n",
        "\n",
        "\n",
        "X[0] --> {0: 20%, 1: 80%}\n",
        "\n",
        "\n",
        "\n",
        "O modelo de regressão logística faz o seguinte:\n",
        "\n",
        "X[0] --> {0: 20%, 1: 80%} ==> [1]\n",
        "\n",
        "É 1 porque existe um limiar de decisão. Ou seja, se uma das classes tem mais que 50% de chance, o modelo decide que o resultado é essa classe.\n"
      ],
      "metadata": {
        "id": "6NRrneFQU7Za"
      }
    },
    {
      "cell_type": "markdown",
      "source": [
        "Sigmoíde é necessário para chegarmos nas probabilidades que podem estar descalibradas, transformando os números para 0 e 1, facilitando o entedimento.\n",
        "\n",
        "Onde sigmoide será denotado por  1/ (1+e^-(X))\n"
      ],
      "metadata": {
        "id": "Bel2fByS_Kh4"
      }
    },
    {
      "cell_type": "code",
      "source": [
        "X_exp = np.linspace(-4,4, 81)\n",
        "Y_exp = np.exp(X_exp)\n",
        "plt.plot(X_exp, Y_exp);\n",
        "\n",
        "# e^x"
      ],
      "metadata": {
        "id": "siy0-vu__k9_",
        "colab": {
          "base_uri": "https://localhost:8080/",
          "height": 430
        },
        "outputId": "ae953366-b4db-45f9-905e-6b113e68f5ab"
      },
      "execution_count": 22,
      "outputs": [
        {
          "output_type": "display_data",
          "data": {
            "text/plain": [
              "<Figure size 640x480 with 1 Axes>"
            ],
            "image/png": "[encoded data removed]"
          },
          "metadata": {}
        }
      ]
    },
    {
      "cell_type": "code",
      "source": [
        "X_exp = np.linspace(-4,4, 81)\n",
        "Y_exp = np.exp(X_exp)\n",
        "plt.plot(-X_exp, Y_exp);\n",
        "\n",
        "# e^-(x)"
      ],
      "metadata": {
        "id": "k0KTwkFJA2ht",
        "colab": {
          "base_uri": "https://localhost:8080/",
          "height": 430
        },
        "outputId": "8a7c9176-0c87-4950-a809-7b5fbd418359"
      },
      "execution_count": 23,
      "outputs": [
        {
          "output_type": "display_data",
          "data": {
            "text/plain": [
              "<Figure size 640x480 with 1 Axes>"
            ],
            "image/png": "[encoded data removed]"
          },
          "metadata": {}
        }
      ]
    },
    {
      "cell_type": "code",
      "source": [
        "def sigmoid(X):\n",
        "  return 1/ (1+ np.exp(-X))"
      ],
      "metadata": {
        "id": "FeUltjRcBqb9"
      },
      "execution_count": 24,
      "outputs": []
    },
    {
      "cell_type": "code",
      "source": [
        "X_exp = np.linspace(-7,7, 141)\n",
        "Y_exp = sigmoid(X_exp)\n",
        "\n",
        "plt.plot(X_exp, Y_exp);"
      ],
      "metadata": {
        "colab": {
          "base_uri": "https://localhost:8080/",
          "height": 430
        },
        "id": "nwnbCFiFCJFy",
        "outputId": "1ef42dca-f97a-4671-ca6c-926203657066"
      },
      "execution_count": 25,
      "outputs": [
        {
          "output_type": "display_data",
          "data": {
            "text/plain": [
              "<Figure size 640x480 with 1 Axes>"
            ],
            "image/png": "[encoded data removed]"
          },
          "metadata": {}
        }
      ]
    },
    {
      "cell_type": "markdown",
      "source": [
        "##Exercício 14"
      ],
      "metadata": {
        "id": "aIoXzV2mC3Cz"
      }
    },
    {
      "cell_type": "code",
      "source": [
        "group_by_pay_mean_y"
      ],
      "metadata": {
        "id": "XUTvks8PC8Xr"
      },
      "execution_count": null,
      "outputs": []
    },
    {
      "cell_type": "code",
      "source": [
        "p = group_by_pay_mean_y.values\n",
        "p"
      ],
      "metadata": {
        "id": "z2Tx8VRD4bXb"
      },
      "execution_count": null,
      "outputs": []
    },
    {
      "cell_type": "code",
      "source": [
        "q = 1-p\n",
        "q"
      ],
      "metadata": {
        "id": "MK3Z35fJ4lU3"
      },
      "execution_count": null,
      "outputs": []
    },
    {
      "cell_type": "code",
      "source": [
        "odds_ratio = p/q\n",
        "print(odds_ratio)\n",
        "log_odds = np.log(odds_ratio)\n",
        "log_odds"
      ],
      "metadata": {
        "id": "bHERj9CV4u42"
      },
      "execution_count": null,
      "outputs": []
    },
    {
      "cell_type": "code",
      "source": [
        "group_by_pay_mean_y.index"
      ],
      "metadata": {
        "id": "vR0oLHhe8P5E"
      },
      "execution_count": null,
      "outputs": []
    },
    {
      "cell_type": "code",
      "source": [
        "plt.plot(group_by_pay_mean_y.index, log_odds, '-x');"
      ],
      "metadata": {
        "id": "ZhtzjHLp8UJd"
      },
      "execution_count": null,
      "outputs": []
    },
    {
      "cell_type": "markdown",
      "source": [
        "## Exercício 15"
      ],
      "metadata": {
        "id": "C-l4bNS-IMzM"
      }
    },
    {
      "cell_type": "code",
      "source": [
        "np.random.seed(42)\n",
        "X_1_pos = np.random.uniform(low=1, high=7, size=(20,1))\n",
        "X_1_neg = np.random.uniform(low=3, high=10, size=(20,1))\n",
        "X_2_pos = np.random.uniform(low=1, high=7, size=(20,1))\n",
        "X_2_neg = np.random.uniform(low=3, high=10, size=(20,1))"
      ],
      "metadata": {
        "id": "ztiEfswA14ZG"
      },
      "execution_count": 60,
      "outputs": []
    },
    {
      "cell_type": "code",
      "source": [
        "plt.scatter(X_1_pos,X_2_pos, color = 'red', marker= 'x')\n",
        "plt.scatter(X_1_neg,X_2_neg, color = 'blue', marker= 'x');"
      ],
      "metadata": {
        "colab": {
          "base_uri": "https://localhost:8080/",
          "height": 430
        },
        "id": "qpspSr3j8EZd",
        "outputId": "886750ba-90db-4d13-9241-d92701c03b7b"
      },
      "execution_count": 45,
      "outputs": [
        {
          "output_type": "display_data",
          "data": {
            "text/plain": [
              "<Figure size 640x480 with 1 Axes>"
            ],
            "image/png": "[encoded data removed]"
          },
          "metadata": {}
        }
      ]
    },
    {
      "cell_type": "code",
      "source": [
        "X = np.block([[X_1_pos, X_2_pos], [X_1_neg, X_2_neg]])\n",
        "X"
      ],
      "metadata": {
        "id": "NE2RuzyW-VcX"
      },
      "execution_count": null,
      "outputs": []
    },
    {
      "cell_type": "code",
      "source": [
        " y = np.vstack((np.ones((20,1)), np.zeros((20,1)))).reshape(40,)\n",
        " y"
      ],
      "metadata": {
        "id": "qu8bnUzt_o2K"
      },
      "execution_count": null,
      "outputs": []
    },
    {
      "cell_type": "code",
      "source": [
        "from sklearn.linear_model import LogisticRegression"
      ],
      "metadata": {
        "id": "6CnbC9rxB0QC"
      },
      "execution_count": 66,
      "outputs": []
    },
    {
      "cell_type": "code",
      "source": [
        "lr = LogisticRegression(solver = 'liblinear')"
      ],
      "metadata": {
        "id": "00RF-lljCJJj"
      },
      "execution_count": 67,
      "outputs": []
    },
    {
      "cell_type": "code",
      "source": [
        "lr.fit(X, y)"
      ],
      "metadata": {
        "id": "vhEXdl1KCR15"
      },
      "execution_count": null,
      "outputs": []
    },
    {
      "cell_type": "code",
      "source": [
        "y_pred = lr.predict(X)\n",
        "positive_indices = [counter for counter in range(len(y_pred)) if y_pred[counter]==1]\n",
        "negative_indices = [counter for counter in range(len(y_pred)) if y_pred[counter]==0]"
      ],
      "metadata": {
        "id": "DDBnLqwvEaFc"
      },
      "execution_count": 70,
      "outputs": []
    },
    {
      "cell_type": "code",
      "source": [
        "plt.scatter(X_1_pos,X_2_pos, color = 'red', marker= 'x')\n",
        "plt.scatter(X_1_neg,X_2_neg, color = 'blue', marker= 'x')\n",
        "plt.scatter(X[positive_indices,0],X[positive_indices,1], color = 'red', s= 150, marker= 'o', facecolors = 'none')\n",
        "plt.scatter(X[negative_indices,0],X[negative_indices,1], color = 'blue',s= 150, marker= 'o', facecolors = 'none');"
      ],
      "metadata": {
        "id": "22PXhL74FOVr"
      },
      "execution_count": null,
      "outputs": []
    },
    {
      "cell_type": "code",
      "source": [
        "theta_1 = lr.coef_[0][0]\n",
        "theta_2 = lr.coef_[0][1]\n",
        "\n",
        "print(theta_1, theta_2)"
      ],
      "metadata": {
        "id": "uFZvHgOnMaK3"
      },
      "execution_count": null,
      "outputs": []
    },
    {
      "cell_type": "code",
      "source": [
        "theta_0 = lr.intercept_"
      ],
      "metadata": {
        "id": "yz1eaba4Mye3"
      },
      "execution_count": 77,
      "outputs": []
    },
    {
      "cell_type": "code",
      "source": [
        "X_1_decision_boundary = np.array([0,10])\n",
        "X_2_decision_boundary = -(theta_1/ theta_2) * X_1_decision_boundary - (theta_0/theta_2)"
      ],
      "metadata": {
        "id": "00NauiaTM1zZ"
      },
      "execution_count": 83,
      "outputs": []
    },
    {
      "cell_type": "code",
      "source": [
        "plt.scatter(X_1_pos,X_2_pos, color = 'red', marker= 'x')\n",
        "plt.scatter(X_1_neg,X_2_neg, color = 'blue', marker= 'x')\n",
        "plt.scatter(X[positive_indices,0],X[positive_indices,1], color = 'red', s= 150, marker= 'o', facecolors = 'none')\n",
        "plt.scatter(X[negative_indices,0],X[negative_indices,1], color = 'blue',s= 150, marker= 'o', facecolors = 'none')\n",
        "\n",
        "\n",
        "\n",
        "plt.plot(X_1_decision_boundary, X_2_decision_boundary, 'k-');"
      ],
      "metadata": {
        "id": "upc4VYmpNOmc"
      },
      "execution_count": null,
      "outputs": []
    }
  ]
}