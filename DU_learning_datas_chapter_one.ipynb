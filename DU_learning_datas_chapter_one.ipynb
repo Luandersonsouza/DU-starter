{
  "nbformat": 4,
  "nbformat_minor": 0,
  "metadata": {
    "colab": {
      "provenance": [],
      "authorship_tag": "ABX9TyOajMPtwgeVkardrMN7Mo+o",
      "include_colab_link": true
    },
    "kernelspec": {
      "name": "python3",
      "display_name": "Python 3"
    },
    "language_info": {
      "name": "python"
    }
  },
  "cells": [
    {
      "cell_type": "markdown",
      "metadata": {
        "id": "view-in-github",
        "colab_type": "text"
      },
      "source": [
        "<a href=\"https://colab.research.google.com/github/Luandersonsouza/DU-starter/blob/main/DU_learning_datas_chapter_one.ipynb\" target=\"_parent\"><img src=\"https://colab.research.google.com/assets/colab-badge.svg\" alt=\"Open In Colab\"/></a>"
      ]
    },
    {
      "cell_type": "markdown",
      "source": [
        "# Dicionário dos Dados"
      ],
      "metadata": {
        "id": "9E9DyP37I8Vf"
      }
    },
    {
      "cell_type": "markdown",
      "source": [
        "Esta pesquisa empregou uma variável binária, pagamento padrão (Sim = 1, Não = 0), como a variável de resposta. Este estudo revisou a literatura e utilizou as seguintes 23 variáveis como variáveis explicativas:\n",
        "\n",
        "- X1: Valor do crédito concedido (dólar NT): inclui tanto o crédito individual do consumidor quanto o crédito familiar (suplementar).\n",
        "- X2: Gênero (1 = masculino; 2 = feminino).\n",
        "- X3: Educação (1 = pós-graduação; 2 = universidade; 3 = ensino médio; 4 = outros).\n",
        "- X4: Estado civil (1 = casado; 2 = solteiro; 3 = outros).\n",
        "- X5: Idade (ano).\n",
        "- X6 - X11: Histórico de pagamentos anteriores. Acompanhamos os registros mensais de pagamento passado (de abril a setembro de 2005) da seguinte forma: X6 = status de pagamento em setembro de 2005; X7 = status de pagamento em agosto de 2005; . . .; X11 = status de pagamento em abril de 2005. A escala de medição para o status de pagamento é: -1 = pagar pontualmente; 1 = atraso no pagamento por um mês; 2 = atraso no pagamento por dois meses; . . .; 8 = atraso no pagamento por oito meses; 9 = atraso no pagamento por nove meses ou mais.\n",
        "- X12-X17: Valor do extrato de conta (dólar NT). X12 = valor do extrato de conta em setembro de 2005; X13 = valor do extrato de conta em agosto de 2005; . . .; X17 = valor do extrato de conta em abril de 2005.\n",
        "- X18-X23: Valor do pagamento anterior (dólar NT). X18 = valor pago em setembro de 2005; X19 = valor pago em agosto de 2005; . . .; X23 = valor pago em abril de 2005.\n"
      ],
      "metadata": {
        "id": "vp220aYbJ1bo"
      }
    },
    {
      "cell_type": "markdown",
      "source": [
        "#Importando Bibliotecas"
      ],
      "metadata": {
        "id": "AwkCdgmL5MuE"
      }
    },
    {
      "cell_type": "code",
      "execution_count": null,
      "metadata": {
        "id": "bjetOADMZQn5"
      },
      "outputs": [],
      "source": [
        "import pandas as pd"
      ]
    },
    {
      "cell_type": "markdown",
      "source": [
        "## Carregando Dados"
      ],
      "metadata": {
        "id": "Cr30kFNX569J"
      }
    },
    {
      "cell_type": "code",
      "source": [
        "url = 'https://github.com/TrainingByPackt/Data-Science-Projects-with-Python/raw/master/Data/default_of_credit_card_clients__courseware_version_1_21_19.xls'\n",
        "df = pd.read_excel(url)"
      ],
      "metadata": {
        "id": "igV-eiesafvy"
      },
      "execution_count": null,
      "outputs": []
    },
    {
      "cell_type": "code",
      "source": [
        "df.head()"
      ],
      "metadata": {
        "id": "ZE-QRF5ycF4J"
      },
      "execution_count": null,
      "outputs": []
    },
    {
      "cell_type": "markdown",
      "source": [
        "# Verificação da integridade dos dados\n"
      ],
      "metadata": {
        "id": "wo41ZqcQhhK7"
      }
    },
    {
      "cell_type": "markdown",
      "source": [
        "##Verificando a não repetição dos identificadores"
      ],
      "metadata": {
        "id": "w2im4Z5SVAfd"
      }
    },
    {
      "cell_type": "code",
      "source": [
        "df['ID'].nunique()"
      ],
      "metadata": {
        "id": "O-bXFdIVVGBN"
      },
      "execution_count": null,
      "outputs": []
    },
    {
      "cell_type": "markdown",
      "source": [
        "## Verificando o total de Linhas"
      ],
      "metadata": {
        "id": "bmD1hTZvV1r0"
      }
    },
    {
      "cell_type": "code",
      "source": [
        "df.shape[0]"
      ],
      "metadata": {
        "id": "qjRDziupiUE5"
      },
      "execution_count": null,
      "outputs": []
    },
    {
      "cell_type": "markdown",
      "source": [
        "# Contagem de IDs"
      ],
      "metadata": {
        "id": "qfzUOvQzWjLb"
      }
    },
    {
      "cell_type": "code",
      "source": [
        "id_counts = df['ID'].value_counts()\n",
        "id_counts.head()"
      ],
      "metadata": {
        "id": "oc1TkL8xWl8x"
      },
      "execution_count": null,
      "outputs": []
    },
    {
      "cell_type": "markdown",
      "source": [
        "## Contagem de repetições"
      ],
      "metadata": {
        "id": "L5fODopQXLnv"
      }
    },
    {
      "cell_type": "code",
      "source": [
        "id_counts.value_counts()"
      ],
      "metadata": {
        "id": "UK_TraRPXOUY"
      },
      "execution_count": null,
      "outputs": []
    },
    {
      "cell_type": "markdown",
      "source": [
        "## Analisando dados duplicados\n"
      ],
      "metadata": {
        "id": "Lto1IHrukRIQ"
      }
    },
    {
      "cell_type": "code",
      "source": [
        "id_counts == 2\n",
        "dupe_mask = id_counts"
      ],
      "metadata": {
        "id": "Ot9y8TxJkVf1"
      },
      "execution_count": null,
      "outputs": []
    },
    {
      "cell_type": "markdown",
      "source": [
        "## IDs que se repetem\n"
      ],
      "metadata": {
        "id": "eWu_M5chs2HL"
      }
    },
    {
      "cell_type": "code",
      "source": [
        "dupe_mask  = id_counts == 2\n",
        "id_counts.index"
      ],
      "metadata": {
        "id": "Jzbs5q0ks56Q"
      },
      "execution_count": null,
      "outputs": []
    },
    {
      "cell_type": "markdown",
      "source": [
        "## Selecionando IDs duplicados"
      ],
      "metadata": {
        "id": "xOOGtHzqyt0h"
      }
    },
    {
      "cell_type": "code",
      "source": [
        "dupe_ids = id_counts.index[dupe_mask]\n",
        "dupe_ids = list(dupe_ids)\n",
        "len(dupe_ids)"
      ],
      "metadata": {
        "id": "iHGTq7D9yuK_"
      },
      "execution_count": null,
      "outputs": []
    },
    {
      "cell_type": "markdown",
      "source": [
        "## Verificando os primeiros 5 itens de `dupe_ids`"
      ],
      "metadata": {
        "id": "lmY1xbNIArAI"
      }
    },
    {
      "cell_type": "code",
      "source": [
        "dupe_ids[:5]"
      ],
      "metadata": {
        "id": "JPVep8nZBDVi"
      },
      "execution_count": null,
      "outputs": []
    },
    {
      "cell_type": "markdown",
      "source": [
        "## Verificando linhas com IDs duplicados"
      ],
      "metadata": {
        "id": "bw8foNMeC4qR"
      }
    },
    {
      "cell_type": "code",
      "source": [
        "df.loc[df['ID'].isin(dupe_ids[0:3]), :].head(10)"
      ],
      "metadata": {
        "id": "5M4UDBw2C8mW"
      },
      "execution_count": null,
      "outputs": []
    },
    {
      "cell_type": "markdown",
      "source": [
        "##Preparando a matriz booleana para a filtragem do DataFrame"
      ],
      "metadata": {
        "id": "zGM3ZQgcFQsn"
      }
    },
    {
      "cell_type": "code",
      "source": [
        "df_zero_mask = df == 0"
      ],
      "metadata": {
        "id": "ih3WrplVFQYI"
      },
      "execution_count": null,
      "outputs": []
    },
    {
      "cell_type": "markdown",
      "source": [
        "##Criando uma série booleana"
      ],
      "metadata": {
        "id": "cH-nq34XNg92"
      }
    },
    {
      "cell_type": "code",
      "source": [
        "feature_zero_mask = df_zero_mask.iloc[:,1:].all(axis = 1)"
      ],
      "metadata": {
        "id": "PEl3OthTNkMW"
      },
      "execution_count": null,
      "outputs": []
    },
    {
      "cell_type": "markdown",
      "source": [
        "##Soma de linhas com todas as colunas zeradas (menos o ID)"
      ],
      "metadata": {
        "id": "gxfNgivaWA9f"
      }
    },
    {
      "cell_type": "code",
      "source": [
        "sum(feature_zero_mask)"
      ],
      "metadata": {
        "id": "QJryhI1qWhCF"
      },
      "execution_count": null,
      "outputs": []
    },
    {
      "cell_type": "markdown",
      "source": [
        "## Eliminando todas as linhas com as colunas zeradas"
      ],
      "metadata": {
        "id": "FhTfQhAZYXAF"
      }
    },
    {
      "cell_type": "code",
      "source": [
        "df.loc[~feature_zero_mask, :]"
      ],
      "metadata": {
        "id": "5sCs3OwtYh1C"
      },
      "execution_count": null,
      "outputs": []
    },
    {
      "cell_type": "markdown",
      "source": [
        "### Criando uma cópia da tabela já limpa\n"
      ],
      "metadata": {
        "id": "aDiiC1XRZ2Kt"
      }
    },
    {
      "cell_type": "code",
      "source": [
        "df_clean_1 = df.loc[~feature_zero_mask, :].copy()"
      ],
      "metadata": {
        "id": "QQIyxTqsZ0P2"
      },
      "execution_count": null,
      "outputs": []
    },
    {
      "cell_type": "markdown",
      "source": [
        "###Verificando o shape do dataframe"
      ],
      "metadata": {
        "id": "24xA4aAacHGa"
      }
    },
    {
      "cell_type": "code",
      "source": [
        "df_clean_1.shape"
      ],
      "metadata": {
        "id": "uPnrjtXRcLnZ"
      },
      "execution_count": null,
      "outputs": []
    },
    {
      "cell_type": "markdown",
      "source": [
        "### Verificando se o problema foi resolvido"
      ],
      "metadata": {
        "id": "fgLyKvrMcRY4"
      }
    },
    {
      "cell_type": "code",
      "source": [
        "df_clean_1['ID'].nunique()"
      ],
      "metadata": {
        "id": "i01ANLyTcP-x"
      },
      "execution_count": null,
      "outputs": []
    },
    {
      "cell_type": "markdown",
      "source": [
        "#Explorando e limpando dados"
      ],
      "metadata": {
        "id": "D4ysgNw5e4hc"
      }
    },
    {
      "cell_type": "markdown",
      "source": [
        "## Informações sobre o dataset"
      ],
      "metadata": {
        "id": "spo0dzkUe-tE"
      }
    },
    {
      "cell_type": "code",
      "source": [
        "df_clean_1.info()"
      ],
      "metadata": {
        "id": "D9favByde7nN"
      },
      "execution_count": null,
      "outputs": []
    },
    {
      "cell_type": "markdown",
      "source": [
        "## Visualizando as 5 primeiras linhas"
      ],
      "metadata": {
        "id": "zy17UqARuhXg"
      }
    },
    {
      "cell_type": "code",
      "source": [
        "df_clean_1['PAY_1'].head()"
      ],
      "metadata": {
        "id": "DQi8WjV8uqA0"
      },
      "execution_count": null,
      "outputs": []
    },
    {
      "cell_type": "markdown",
      "source": [
        "## Contagem de valores únicos"
      ],
      "metadata": {
        "id": "RTsvQKUOvHqZ"
      }
    },
    {
      "cell_type": "code",
      "source": [
        "df_clean_1['PAY_1'].value_counts()"
      ],
      "metadata": {
        "id": "rBi4DZHfvKKq"
      },
      "execution_count": null,
      "outputs": []
    },
    {
      "cell_type": "markdown",
      "source": [
        "## Criação da máscara booleana para remover valores ausentes"
      ],
      "metadata": {
        "id": "VTvHUDBFvubN"
      }
    },
    {
      "cell_type": "code",
      "source": [
        "valid_pay_1_mask = df_clean_1['PAY_1'] != 'Not available'\n",
        "valid_pay_1_mask.head()"
      ],
      "metadata": {
        "id": "p-7XiZqBvz4C"
      },
      "execution_count": null,
      "outputs": []
    },
    {
      "cell_type": "markdown",
      "source": [
        "## Verificando se a Máscara booleana funcionou\n"
      ],
      "metadata": {
        "id": "6XPIeDn0wa8R"
      }
    },
    {
      "cell_type": "code",
      "source": [
        "sum(valid_pay_1_mask)"
      ],
      "metadata": {
        "id": "npOZgNz_wRmV"
      },
      "execution_count": null,
      "outputs": []
    },
    {
      "cell_type": "markdown",
      "source": [
        "## Criando um dataframe novo após a aplicação da máscara booleana"
      ],
      "metadata": {
        "id": "PBJil-8KzTiR"
      }
    },
    {
      "cell_type": "code",
      "source": [
        "df_clean_2 = df_clean_1.loc[valid_pay_1_mask, :].copy()"
      ],
      "metadata": {
        "id": "QQ1PwYiizUIE"
      },
      "execution_count": null,
      "outputs": []
    },
    {
      "cell_type": "markdown",
      "source": [
        "## Verificando o shape do dataframe"
      ],
      "metadata": {
        "id": "Uw8m4gw50JN4"
      }
    },
    {
      "cell_type": "code",
      "source": [
        "df_clean_2.shape"
      ],
      "metadata": {
        "id": "BFTw1H380Ls7"
      },
      "execution_count": null,
      "outputs": []
    },
    {
      "cell_type": "code",
      "source": [
        "df_clean_2['PAY_1'] = df_clean_2['PAY_1'].astype(int)"
      ],
      "metadata": {
        "id": "IsNaJefL3Vfj"
      },
      "execution_count": null,
      "outputs": []
    },
    {
      "cell_type": "code",
      "source": [
        "df_clean_2[['PAY_1', 'PAY_2']].info()"
      ],
      "metadata": {
        "id": "LzObc-mO0N4r"
      },
      "execution_count": null,
      "outputs": []
    },
    {
      "cell_type": "markdown",
      "source": [
        "**Explicações adicionais sobre as colunas feitas pelo sócio da empresa**\n",
        "\n",
        "* -2: significa que começou o mês sem valor a ser pago e o crédito não foi usado.\n",
        "* -1: significa que um valor foi inteiramente pago.\n",
        "*  0: significa que o pagamento mínimo foi feito, mas o saldo total devedor não foi pago."
      ],
      "metadata": {
        "id": "nKXPjGj84kOQ"
      }
    },
    {
      "cell_type": "markdown",
      "source": [
        "# Importando bibliotecas e configurando Matplotlib\n"
      ],
      "metadata": {
        "id": "krHGuHSABRY4"
      }
    },
    {
      "cell_type": "code",
      "source": [
        "import matplotlib as mpl\n",
        "import matplotlib.pyplot as plt\n",
        "%matplotlib inline"
      ],
      "metadata": {
        "id": "culs5tWnBho7"
      },
      "execution_count": null,
      "outputs": []
    },
    {
      "cell_type": "markdown",
      "source": [
        "## Gerando histogramas para `AGE` e `LIMIT_BAL`"
      ],
      "metadata": {
        "id": "TZ19-Pw8Bw0M"
      }
    },
    {
      "cell_type": "code",
      "source": [
        "df_clean_2[['AGE', 'LIMIT_BAL']].hist();"
      ],
      "metadata": {
        "id": "FWBij11sB-JQ"
      },
      "execution_count": null,
      "outputs": []
    },
    {
      "cell_type": "markdown",
      "source": [
        "## Estatísca descritiva para `AGE` e `LIMIT_BAL`\n"
      ],
      "metadata": {
        "id": "wtG8vjbPG_0_"
      }
    },
    {
      "cell_type": "code",
      "source": [
        "df_clean_2[['AGE', 'LIMIT_BAL']].describe()"
      ],
      "metadata": {
        "id": "4vD4-7cHHbbH"
      },
      "execution_count": null,
      "outputs": []
    },
    {
      "cell_type": "markdown",
      "source": [
        "## Contagem de ocorrências por categoria em `EDUCATION`"
      ],
      "metadata": {
        "id": "0tQzD4ADggm_"
      }
    },
    {
      "cell_type": "code",
      "source": [
        "df_clean_2['EDUCATION'].value_counts()"
      ],
      "metadata": {
        "id": "rEJ8DN4GgtCQ"
      },
      "execution_count": null,
      "outputs": []
    },
    {
      "cell_type": "markdown",
      "source": [
        "## Transformando 0, 5 e 6 em outros (4)"
      ],
      "metadata": {
        "id": "zrBu0AhU1siw"
      }
    },
    {
      "cell_type": "code",
      "source": [
        "df_clean_2['EDUCATION'].replace(to_replace = (0,5,6), value = 4, inplace = True)\n",
        "df_clean_2['EDUCATION'].value_counts()"
      ],
      "metadata": {
        "id": "B5rdzpN_1yXa"
      },
      "execution_count": null,
      "outputs": []
    },
    {
      "cell_type": "markdown",
      "source": [
        "## Contagem de ocorrências por categoria em `MARRIAGE`"
      ],
      "metadata": {
        "id": "Jgs1Fm7N2gWq"
      }
    },
    {
      "cell_type": "code",
      "source": [
        "df_clean_2['MARRIAGE'].value_counts()"
      ],
      "metadata": {
        "id": "2AggTYX52nYg"
      },
      "execution_count": null,
      "outputs": []
    },
    {
      "cell_type": "markdown",
      "source": [
        "## Transformando 0 em outros (3)"
      ],
      "metadata": {
        "id": "aKHWkmRP20DR"
      }
    },
    {
      "cell_type": "code",
      "source": [
        "df_clean_2['MARRIAGE'].replace(to_replace =(0), value = 3, inplace = True)"
      ],
      "metadata": {
        "id": "Pa_l585K25Ks"
      },
      "execution_count": null,
      "outputs": []
    },
    {
      "cell_type": "markdown",
      "source": [
        "#Características Categoricas"
      ],
      "metadata": {
        "id": "8vWwPI0B5ydk"
      }
    },
    {
      "cell_type": "code",
      "source": [
        "df_clean_2.groupby('EDUCATION').agg({'default payment next month': 'mean'}).plot.bar(legend = False);\n",
        "plt.ylabel('Default Rate');\n",
        "plt.xlabel('Educational level: ordinal enconding');"
      ],
      "metadata": {
        "id": "OMPI3zbi52IT"
      },
      "execution_count": null,
      "outputs": []
    },
    {
      "cell_type": "markdown",
      "source": [
        "# Implementando a OHE para uma característica categórica"
      ],
      "metadata": {
        "id": "6EMzL16c0YIR"
      }
    },
    {
      "cell_type": "markdown",
      "source": [
        "*OHE significa ONE HOT ENCODING é uma técnica que usamos para representar variáveis categóricas como valores numéricos em um modelo de aprendizado de máquina."
      ],
      "metadata": {
        "id": "upWYa6bo07LJ"
      }
    },
    {
      "cell_type": "markdown",
      "source": [
        "## Criando uma coluna vazia para teste"
      ],
      "metadata": {
        "id": "ovroNnSP5Fw4"
      }
    },
    {
      "cell_type": "code",
      "source": [
        "df_clean_2['EDUCATION_CAT'] = 'none'"
      ],
      "metadata": {
        "id": "chdUNtnJRRts"
      },
      "execution_count": null,
      "outputs": []
    },
    {
      "cell_type": "markdown",
      "source": [
        "## Examinando as 10 primeiras linhas"
      ],
      "metadata": {
        "id": "xlvFKCC3Axpx"
      }
    },
    {
      "cell_type": "code",
      "source": [
        "df_clean_2[['EDUCATION', 'EDUCATION_CAT']].head(10)"
      ],
      "metadata": {
        "id": "G5Kcq9TjTwgS"
      },
      "execution_count": null,
      "outputs": []
    },
    {
      "cell_type": "markdown",
      "source": [
        "## Criando um dicionário de mapeamento de categorias"
      ],
      "metadata": {
        "id": "teP5kpajF9LL"
      }
    },
    {
      "cell_type": "code",
      "source": [
        "cat_mapping = {\n",
        "1 : 'graduate school',\n",
        "2 : 'university',\n",
        "3 : 'high school',\n",
        "4 : 'others'\n",
        "}"
      ],
      "metadata": {
        "id": "dkutvNBPUSTQ"
      },
      "execution_count": null,
      "outputs": []
    },
    {
      "cell_type": "markdown",
      "source": [
        "## Aplicando o mapeamento de categorias"
      ],
      "metadata": {
        "id": "i47bfiCNPvkK"
      }
    },
    {
      "cell_type": "code",
      "source": [
        "df_clean_2['EDUCATION_CAT'] = df_clean_2['EDUCATION'].map(cat_mapping)\n",
        "df_clean_2[['EDUCATION', 'EDUCATION_CAT']].head(10)"
      ],
      "metadata": {
        "id": "W8JxHLIfW-gi"
      },
      "execution_count": null,
      "outputs": []
    },
    {
      "cell_type": "markdown",
      "source": [
        "## Codificação de características com OHE"
      ],
      "metadata": {
        "id": "M2pMH01RetLJ"
      }
    },
    {
      "cell_type": "code",
      "source": [
        "edu_ohe = pd.get_dummies(df_clean_2['EDUCATION_CAT'])\n",
        "edu_ohe.head(10)"
      ],
      "metadata": {
        "id": "UV5A3TL-e2E_"
      },
      "execution_count": null,
      "outputs": []
    },
    {
      "cell_type": "markdown",
      "source": [
        "## Concatenando o Dataframe Original com OHE"
      ],
      "metadata": {
        "id": "Q3xxxRYkfiUg"
      }
    },
    {
      "cell_type": "code",
      "source": [
        "df_with_ohe = pd.concat([df_clean_2, edu_ohe], axis = 1)\n",
        "df_with_ohe[['EDUCATION_CAT', 'graduate school','university','high school','others']]\n",
        "df_with_ohe.shape"
      ],
      "metadata": {
        "id": "l3xXI7j4f9uX"
      },
      "execution_count": null,
      "outputs": []
    },
    {
      "cell_type": "code",
      "source": [
        "df_with_ohe.to_csv('chapter_1_cleaned_data.csv', index= False)"
      ],
      "metadata": {
        "id": "SHR6RBgDhW-4"
      },
      "execution_count": null,
      "outputs": []
    }
  ]
}